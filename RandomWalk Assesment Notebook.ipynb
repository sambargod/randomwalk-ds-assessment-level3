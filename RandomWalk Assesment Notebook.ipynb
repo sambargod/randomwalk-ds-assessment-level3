{
 "cells": [
  {
   "cell_type": "markdown",
   "id": "0d08a211",
   "metadata": {},
   "source": [
    "## RandomWalk Assesment 3\n",
    "\n",
    "#### Ivan Christopher"
   ]
  },
  {
   "cell_type": "markdown",
   "id": "8bcba7ff",
   "metadata": {},
   "source": [
    "## Imports"
   ]
  },
  {
   "cell_type": "code",
   "execution_count": 1,
   "id": "d626f9ea",
   "metadata": {},
   "outputs": [],
   "source": [
    "import pandas as pd"
   ]
  },
  {
   "cell_type": "markdown",
   "id": "b4bbbf4e",
   "metadata": {},
   "source": [
    "### DataFrame Initialization"
   ]
  },
  {
   "cell_type": "code",
   "execution_count": 4,
   "id": "f23b51ae",
   "metadata": {},
   "outputs": [],
   "source": [
    "# Reading each CSV into a DataFrame\n",
    "\n",
    "df_books = pd.read_csv(\"books.csv\")\n",
    "df_tags = pd.read_csv(\"book_tags.csv\")\n",
    "df_ratings = pd.read_csv(\"ratings.csv\")"
   ]
  },
  {
   "cell_type": "code",
   "execution_count": 71,
   "id": "faa0b410",
   "metadata": {
    "scrolled": true
   },
   "outputs": [
    {
     "data": {
      "text/plain": [
       "Index(['book_id', 'goodreads_book_id', 'best_book_id', 'work_id',\n",
       "       'books_count', 'isbn', 'isbn13', 'authors', 'original_publication_year',\n",
       "       'original_title', 'title', 'language_code', 'average_rating',\n",
       "       'ratings_count', 'work_ratings_count', 'work_text_reviews_count',\n",
       "       'ratings_1', 'ratings_2', 'ratings_3', 'ratings_4', 'ratings_5',\n",
       "       'image_url', 'small_image_url', 'NonEnglish'],\n",
       "      dtype='object')"
      ]
     },
     "execution_count": 71,
     "metadata": {},
     "output_type": "execute_result"
    }
   ],
   "source": [
    "df_books.columns"
   ]
  },
  {
   "cell_type": "code",
   "execution_count": 72,
   "id": "59da9090",
   "metadata": {
    "scrolled": true
   },
   "outputs": [
    {
     "data": {
      "text/plain": [
       "Index(['goodreads_book_id', 'tag_id', 'count'], dtype='object')"
      ]
     },
     "execution_count": 72,
     "metadata": {},
     "output_type": "execute_result"
    }
   ],
   "source": [
    "df_tags.columns"
   ]
  },
  {
   "cell_type": "code",
   "execution_count": 73,
   "id": "e2a57257",
   "metadata": {},
   "outputs": [
    {
     "data": {
      "text/plain": [
       "Index(['user_id', 'book_id', 'rating'], dtype='object')"
      ]
     },
     "execution_count": 73,
     "metadata": {},
     "output_type": "execute_result"
    }
   ],
   "source": [
    "df_ratings.columns"
   ]
  },
  {
   "cell_type": "markdown",
   "id": "65c3306b",
   "metadata": {},
   "source": [
    "#### Q1. How many books do not have an original title [books.csv]?"
   ]
  },
  {
   "cell_type": "code",
   "execution_count": 9,
   "id": "1502e46e",
   "metadata": {},
   "outputs": [
    {
     "name": "stdout",
     "output_type": "stream",
     "text": [
      "36\n"
     ]
    }
   ],
   "source": [
    "# Using .isna() we identify the NA values followed by a summing operation\n",
    "\n",
    "print(df_books.original_title.isna().sum())"
   ]
  },
  {
   "cell_type": "markdown",
   "id": "d7432769",
   "metadata": {},
   "source": [
    "#### Q2. How many unique books are present in the dataset ? Evaluate based on the 'book_id' after removing records containing null values for original_title column in [books.csv] and corresponding records in [book_tags.csv] and [ratings.csv]"
   ]
  },
  {
   "cell_type": "code",
   "execution_count": 98,
   "id": "445eb236",
   "metadata": {},
   "outputs": [],
   "source": [
    "filtered_books_df = df_books.dropna(subset=['original_title'])\n",
    "\n",
    "filtered_book_tags_df = df_tags[df_tags['goodreads_book_id'].isin(filtered_books_df['goodreads_book_id'])]\n",
    "filtered_ratings_df = df_ratings[df_ratings['book_id'].isin(filtered_books_df['book_id'])]\n",
    "\n",
    "count = filtered_books_df['book_id'].nunique()"
   ]
  },
  {
   "cell_type": "code",
   "execution_count": 99,
   "id": "03428269",
   "metadata": {
    "scrolled": true
   },
   "outputs": [
    {
     "data": {
      "text/plain": [
       "363"
      ]
     },
     "execution_count": 99,
     "metadata": {},
     "output_type": "execute_result"
    }
   ],
   "source": [
    "count"
   ]
  },
  {
   "cell_type": "markdown",
   "id": "48332051",
   "metadata": {},
   "source": [
    "#### Q3. How many unique users are present in the dataset [ratings.csv] ?"
   ]
  },
  {
   "cell_type": "code",
   "execution_count": 38,
   "id": "52d4f838",
   "metadata": {},
   "outputs": [
    {
     "data": {
      "text/plain": [
       "40836"
      ]
     },
     "execution_count": 38,
     "metadata": {},
     "output_type": "execute_result"
    }
   ],
   "source": [
    "# We extract unique values using .nunique() and then retrieve the userid values\n",
    "\n",
    "df_ratings.nunique().user_id"
   ]
  },
  {
   "cell_type": "markdown",
   "id": "df2893cc",
   "metadata": {},
   "source": [
    "#### Q4. How many unique tags are there in the dataset [book_tags.csv] ?"
   ]
  },
  {
   "cell_type": "code",
   "execution_count": 43,
   "id": "ac986bb2",
   "metadata": {},
   "outputs": [
    {
     "data": {
      "text/plain": [
       "3651"
      ]
     },
     "execution_count": 43,
     "metadata": {},
     "output_type": "execute_result"
    }
   ],
   "source": [
    "# We extract unique values using .nunique() and then retrieve the tag_id values\n",
    "\n",
    "df_tags.nunique().tag_id"
   ]
  },
  {
   "cell_type": "markdown",
   "id": "661f94d8",
   "metadata": {},
   "source": [
    "#### Q5. Which tag_id is the most frequently used ie. mapped with the highest number of books [book_tags.csv] ? (In case of more than one tag, mention the tag id with the least numerical value)’"
   ]
  },
  {
   "cell_type": "code",
   "execution_count": 102,
   "id": "af24659c",
   "metadata": {
    "scrolled": false
   },
   "outputs": [
    {
     "data": {
      "text/plain": [
       "4600"
      ]
     },
     "execution_count": 102,
     "metadata": {},
     "output_type": "execute_result"
    }
   ],
   "source": [
    "df_tags.groupby(\"tag_id\").size().idxmax()"
   ]
  },
  {
   "cell_type": "markdown",
   "id": "39c86ec5",
   "metadata": {},
   "source": [
    "#### Q6. Which book (title) has the most number of counts of tags given by the user [book_tags.csv,books.csv] ."
   ]
  },
  {
   "cell_type": "code",
   "execution_count": 117,
   "id": "a3d1de89",
   "metadata": {},
   "outputs": [],
   "source": [
    "\n",
    "merged_df = df_tags.merge(df_books[['goodreads_book_id', 'title']], on='goodreads_book_id', how='left')\n",
    "\n",
    "tag_count = merged_df.groupby('title')[\"count\"].sum()\n",
    "\n",
    "most = tag_count.idxmax()"
   ]
  },
  {
   "cell_type": "code",
   "execution_count": 118,
   "id": "c440c050",
   "metadata": {},
   "outputs": [
    {
     "data": {
      "text/plain": [
       "'Bossypants'"
      ]
     },
     "execution_count": 118,
     "metadata": {},
     "output_type": "execute_result"
    }
   ],
   "source": [
    "most"
   ]
  },
  {
   "cell_type": "markdown",
   "id": "db276e20",
   "metadata": {},
   "source": [
    "#### Q7."
   ]
  },
  {
   "cell_type": "code",
   "execution_count": 112,
   "id": "756aaab3",
   "metadata": {},
   "outputs": [
    {
     "data": {
      "image/png": "[encoded data removed]",
      "text/plain": [
       "<Figure size 640x480 with 1 Axes>"
      ]
     },
     "metadata": {},
     "output_type": "display_data"
    }
   ],
   "source": [
    "tag_counts = df_tags.groupby('tag_id')['goodreads_book_id'].nunique()\n",
    "\n",
    "top_20 = tag_counts.sort_values(ascending=False).head(20)\n",
    "\n",
    "\n",
    "top_20.plot(kind='bar')\n",
    "plt.title('Top 20 Unique Tags')\n",
    "plt.xlabel('Tag ID')\n",
    "plt.ylabel('Number of Records')\n",
    "plt.show()"
   ]
  }
 ],
 "metadata": {
  "kernelspec": {
   "display_name": "Python 3 (ipykernel)",
   "language": "python",
   "name": "python3"
  },
  "language_info": {
   "codemirror_mode": {
    "name": "ipython",
    "version": 3
   },
   "file_extension": ".py",
   "mimetype": "text/x-python",
   "name": "python",
   "nbconvert_exporter": "python",
   "pygments_lexer": "ipython3",
   "version": "3.9.13"
  }
 },
 "nbformat": 4,
 "nbformat_minor": 5
}
